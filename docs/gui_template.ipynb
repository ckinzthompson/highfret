{
 "cells": [
  {
   "cell_type": "markdown",
   "id": "8f65f757",
   "metadata": {},
   "source": [
    "# HighFRET Introduction\n",
    "Let's say you have microscope movies (.tif) in a folder called `/Users/colin/Desktop/cooldata` (*e.g.*, `movie1.ome.tif`).\n",
    "\n",
    "## Organization: the HighFRET folder\n",
    "Running any HighFRET step on a movie will create a folder for that movie to hold the results. For `movie1.ome.tif`, all of your results will be in the folder `/Users/colin/Desktop/cooldata/highfret_movie1`. \n",
    "\n",
    "In the HighFRET folder, you have different sub-folders for each sub-step: `/Users/colin/Desktop/cooldata/highfret_movie1/aligner`, `.../spotfinder`, `.../extracter`, and `.../temp`. Results from each step go in each folder.\n",
    "\n",
    "* Tip: you can autopopulate the filename textboxes by adding them to the function call: aligner('/Users/colin/Desktop/cooldata/movie1.ome.tif'). "
   ]
  },
  {
   "cell_type": "markdown",
   "id": "b440d512",
   "metadata": {},
   "source": [
    "## Step 1: Alignment\n",
    "First, you'll want to use the *aligner* GUI make an alignment file.\n",
    "1. Start on the \"Load\" tab by entering the filename, and clicking the *Prepare Data* button\n",
    "2. Note: you MUST prepare data everytime for the other tabs to work\n",
    "3. On the \"Align\" tab, click \"Optimize\"\n",
    "4. Go to the \"Plot\" tab, click the \"Plot\" button, and see if the alignment looks good -- yellow spots are regions of green and yellow overlap.\n",
    "5. Iterate between \"Align\" and \"Plot\". The goal is to slowly increase the order of the polynomial used for the alignment -- probably 2 is good enough. Keep clicking \"Optimize\" until the fitting routinely occurs in a few steps.\n",
    "\n",
    "* You can select different stages of your progress using the \"Results\" dropdown on the \"Align\" tab. Each click of the \"Optimize\" button starts at the currently selected results, so if you mess up, you can go back and try again.\n",
    "* Risky: you can skip this step and it will be done JIT"
   ]
  },
  {
   "cell_type": "code",
   "execution_count": null,
   "id": "96e66692-13e9-4d25-9c78-06a17395fc85",
   "metadata": {},
   "outputs": [],
   "source": [
    "from highfret.gui import aligner\n",
    "aligner()"
   ]
  },
  {
   "cell_type": "markdown",
   "id": "34a8e29b",
   "metadata": {},
   "source": [
    "## Step 2: Spotfinding\n",
    "Next, you need to identify the locations of single-molecules in the FOV of the movie. These are \"spots\", so this step is called \"spotfinding\". \n",
    "1. In the \"Files\" tab, enter the data file name (*e.g.*, `/Users/colin/Desktop/cooldata/movie1.ome.tif`), and the alignment file (*e.g.*, `/Users/colin/Desktop/cooldata/highfret_movie1/aligner/0002_optimize_order3_bin1.theta.npy`)\n",
    "2. Click the \"Prepare Data\" button. Wait until you see the picture; make sure it looks okay\n",
    "3. Click the \"Find Spots\" button.\n",
    "\n",
    "* Risky: it's not necessary to give an alignment file. One will be calculated JIT.\n",
    "\n",
    "## Step 3: Trace Extraction\n",
    "Now you need to estimate the fluorescence intensity for each spot. This is called \"extracting\".\n",
    "1. In the \"Files\" tab, enter the data file name (*e.g.*, `/Users/colin/Desktop/cooldata/movie1.ome.tif`), and the alignment file (*e.g.*, `/Users/colin/Desktop/cooldata/highfret_movie1/aligner/0002_optimize_order3_bin1.theta.npy`)\n",
    "2. In the \"Extract\" tab, select \"MLE PSF\" for a full treatement of neighboring spots and a local background at each timestep, or select \"Max Px\" for a faster, more traditional calculation that has issues with weird backgrounds (high concentrations, time dependence) \n",
    "\n",
    "* Risky: it's not necessary to give an alignment file. One will be calculated JIT."
   ]
  },
  {
   "cell_type": "code",
   "execution_count": null,
   "id": "97c23caa",
   "metadata": {},
   "outputs": [],
   "source": [
    "from highfret.gui import highfret\n",
    "highfret()"
   ]
  }
 ],
 "metadata": {
  "kernelspec": {
   "display_name": "Python 3 (ipykernel)",
   "language": "python",
   "name": "python3"
  },
  "language_info": {
   "codemirror_mode": {
    "name": "ipython",
    "version": 3
   },
   "file_extension": ".py",
   "mimetype": "text/x-python",
   "name": "python",
   "nbconvert_exporter": "python",
   "pygments_lexer": "ipython3",
   "version": "3.9.0"
  }
 },
 "nbformat": 4,
 "nbformat_minor": 5
}
